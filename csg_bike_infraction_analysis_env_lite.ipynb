{
 "cells": [
  {
   "cell_type": "code",
   "execution_count": 1,
   "metadata": {},
   "outputs": [
    {
     "ename": "ModuleNotFoundError",
     "evalue": "No module named 'ethnicolr'",
     "output_type": "error",
     "traceback": [
      "\u001b[0;31m---------------------------------------------------------------------------\u001b[0m",
      "\u001b[0;31mModuleNotFoundError\u001b[0m                       Traceback (most recent call last)",
      "\u001b[0;32m<ipython-input-1-5c135548e54c>\u001b[0m in \u001b[0;36m<module>\u001b[0;34m\u001b[0m\n\u001b[1;32m      1\u001b[0m \u001b[0;32mfrom\u001b[0m \u001b[0mnumpy\u001b[0m \u001b[0;32mimport\u001b[0m \u001b[0;34m*\u001b[0m\u001b[0;34m\u001b[0m\u001b[0;34m\u001b[0m\u001b[0m\n\u001b[1;32m      2\u001b[0m \u001b[0;32mimport\u001b[0m \u001b[0mpandas\u001b[0m \u001b[0;32mas\u001b[0m \u001b[0mpd\u001b[0m\u001b[0;34m\u001b[0m\u001b[0;34m\u001b[0m\u001b[0m\n\u001b[0;32m----> 3\u001b[0;31m \u001b[0;32mimport\u001b[0m \u001b[0methnicolr\u001b[0m\u001b[0;34m\u001b[0m\u001b[0;34m\u001b[0m\u001b[0m\n\u001b[0m\u001b[1;32m      4\u001b[0m \u001b[0;32mimport\u001b[0m \u001b[0mplatform\u001b[0m\u001b[0;34m\u001b[0m\u001b[0;34m\u001b[0m\u001b[0m\n\u001b[1;32m      5\u001b[0m \u001b[0;34m\u001b[0m\u001b[0m\n",
      "\u001b[0;31mModuleNotFoundError\u001b[0m: No module named 'ethnicolr'"
     ]
    }
   ],
   "source": [
    "from numpy import *\n",
    "import pandas as pd\n",
    "import ethnicolr\n",
    "import platform\n",
    "\n",
    "from IPython.core.display import display, HTML\n",
    "\n",
    "# choose root directory for data files\n",
    "if platform.system() == 'Darwin':\n",
    "    data_dir = '/Users/Ethan/Documents/Finances and records/2020-06-30 - Helmet Law Working Group/Data/'\n",
    "elif platform.system() == 'Linux':\n",
    "    data_dir = '/dat1/ethancc/CSG/'"
   ]
  },
  {
   "cell_type": "code",
   "execution_count": 189,
   "metadata": {},
   "outputs": [],
   "source": [
    "names = pd.read_csv(data_dir + 'seattle_municipal_court_batch2_names.csv')\n",
    "\n",
    "# help(ethnicolr.pred_fl_reg_name)\n",
    "# help(ethnicolr.pred_nc_reg_name)\n",
    "# help(ethnicolr.pred_census_ln)\n",
    "# help(ethnicolr.census_ln)\n",
    "\n",
    "last_name_census_match = ethnicolr.census_ln(names.copy(),namecol='Defendant Last Name',year=2010)\n",
    "last_name_census_pred = ethnicolr.pred_census_ln(names.copy(),namecol='Defendant Last Name',year=2010)\n",
    "full_name_NC_pred = ethnicolr.pred_nc_reg_name(names.copy(),lname_col='Defendant Last Name',\n",
    "                                               fname_col='Defendant First Name')\n",
    "full_name_FL_pred = ethnicolr.pred_fl_reg_name(names.copy(),lname_col='Defendant Last Name',\n",
    "                                               fname_col='Defendant First Name')"
   ]
  },
  {
   "cell_type": "code",
   "execution_count": 190,
   "metadata": {},
   "outputs": [],
   "source": [
    "last_name_census_match[last_name_census_match == '(S)'] = NaN\n",
    "\n",
    "last_name_census_match[['pctwhite','pctblack','pctapi','pctaian','pct2prace','pcthispanic']] = \\\n",
    "    last_name_census_match[['pctwhite','pctblack','pctapi','pctaian','pct2prace','pcthispanic']].astype(float)\n",
    "\n",
    "# fill rows with some (S) values, indicating partially missing Census matches for certain race/ethnicity categories\n",
    "# ... divide remaining percent evenly between (S) placeholders \n",
    "num_missing = last_name_census_match[['pctwhite','pctblack','pctapi',\n",
    "                                      'pctaian','pct2prace','pcthispanic']].apply(lambda x: sum(isnan(x)),axis=1)\n",
    "low_match_count_mask = where(logical_and(num_missing > 0, num_missing < 6))[0]\n",
    "rows_to_be_filled = last_name_census_match.loc[low_match_count_mask][['pctwhite','pctblack','pctapi','pctaian','pct2prace','pcthispanic']]\n",
    "fill_values = (100 - rows_to_be_filled.sum(axis=1)) / sum(rows_to_be_filled.isna(),axis=1)\n",
    "fill_values_all = pd.DataFrame(index=last_name_census_match.index,data=full((len(last_name_census_match),6),NaN),\n",
    "                               columns=['pctwhite','pctblack','pctapi','pctaian','pct2prace','pcthispanic'])\n",
    "for colname in ['pctwhite','pctblack','pctapi','pctaian','pct2prace','pcthispanic']:\n",
    "    fill_values_all[colname] = fill_values\n",
    "last_name_census_match = last_name_census_match.fillna(value=fill_values_all)"
   ]
  },
  {
   "cell_type": "code",
   "execution_count": 191,
   "metadata": {},
   "outputs": [],
   "source": [
    "last_name_census_match.to_csv(data_dir + 'seattle_municipal_court_batch2_names_last_name_census_match.csv')\n",
    "last_name_census_pred.to_csv(data_dir + 'seattle_municipal_court_batch2_names_last_name_census_pred.csv')\n",
    "full_name_NC_pred.to_csv(data_dir + 'seattle_municipal_court_batch2_names_full_name_NC_pred.csv')\n",
    "full_name_FL_pred.to_csv(data_dir + 'seattle_municipal_court_batch2_names_full_name_FL_pred.csv')"
   ]
  }
 ],
 "metadata": {
  "kernelspec": {
   "display_name": "PyCharm (Miscellaneous)",
   "language": "python",
   "name": "pycharm-bf1ba4a2"
  },
  "language_info": {
   "codemirror_mode": {
    "name": "ipython",
    "version": 3
   },
   "file_extension": ".py",
   "mimetype": "text/x-python",
   "name": "python",
   "nbconvert_exporter": "python",
   "pygments_lexer": "ipython3",
   "version": "3.6.13"
  }
 },
 "nbformat": 4,
 "nbformat_minor": 4
}
