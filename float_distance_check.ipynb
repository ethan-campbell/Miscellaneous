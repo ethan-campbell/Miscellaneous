{
 "cells": [
  {
   "cell_type": "code",
   "execution_count": 1,
   "metadata": {
    "pycharm": {
     "is_executing": false,
     "name": "#%%\n"
    }
   },
   "outputs": [],
   "source": [
    "from numpy import *\n",
    "import xarray as xr\n",
    "from datetime import datetime\n",
    "\n",
    "import geo_tools as gt\n",
    "\n",
    "processed_argo_dir = '/Users/Ethan/Documents/Research/2016-08 - UW/Data/Processed/2020_02_11_Argo/'\n",
    "\n",
    "wmoids = [5904468,5904471,5904467,5904397]\n",
    "drift_distances = []"
   ]
  },
  {
   "cell_type": "code",
   "execution_count": 2,
   "metadata": {},
   "outputs": [
    {
     "name": "stdout",
     "output_type": "stream",
     "text": [
      "5904468\n",
      "2014 127.47581688682466\n",
      "2015 155.09514614887476\n",
      "2016 116.75865557549106\n",
      "2017 59.028349714268515\n",
      "2018 18.209170548846004\n",
      "5904471\n",
      "2014 83.33422397510714\n",
      "2015 140.7964277007678\n",
      "2016 79.3830261566413\n",
      "2017 128.70594943336485\n",
      "2018 260.78036517078283\n",
      "5904467\n",
      "2014 145.17874841971278\n",
      "2015 323.6695860056916\n",
      "2016 200.3123783584867\n",
      "2017 195.52331291872898\n",
      "2018 228.59491080439733\n",
      "5904397\n",
      "2014 47.04017722356419\n",
      "2015 381.0418382693578\n",
      "2016 253.852381741484\n",
      "2017 430.96196817046945\n",
      "2018 204.944841804786\n"
     ]
    }
   ],
   "source": [
    "for wmoid in wmoids:\n",
    "    print(wmoid)\n",
    "    float_data = xr.open_dataset(processed_argo_dir + '{0}.nc'.format(wmoid))\n",
    "    for year in range(2014,2018+1):\n",
    "        drift_distance \\\n",
    "            = gt.distance_between_two_coors(float_data['lat'].sel(time=datetime(year,10,1),\n",
    "                                                                  method='nearest'),\n",
    "                                            float_data['lon'].sel(time=datetime(year,10,1),\n",
    "                                                                  method='nearest'),\n",
    "                                            float_data['lat'].sel(time=datetime(year+1,5,31),\n",
    "                                                                  method='nearest'),\n",
    "                                            float_data['lon'].sel(time=datetime(year+1,5,31),\n",
    "                                                                  method='nearest'))/1000\n",
    "        print(year,drift_distance)\n",
    "        drift_distances.append(drift_distance)"
   ]
  },
  {
   "cell_type": "code",
   "execution_count": 3,
   "metadata": {},
   "outputs": [
    {
     "name": "stdout",
     "output_type": "stream",
     "text": [
      "Mean drift distance during bloom cycle: 179.03 km\n",
      "Median drift distance during bloom cycle: 150.14 km\n",
      "Min drift distance during bloom cycle: 18.21 km\n",
      "Max drift distance during bloom cycle: 430.96 km\n"
     ]
    }
   ],
   "source": [
    "print('Mean drift distance during bloom cycle: {0:.02f} km'.format(mean(drift_distances)))\n",
    "print('Median drift distance during bloom cycle: {0:.02f} km'.format(median(drift_distances)))\n",
    "print('Min drift distance during bloom cycle: {0:.02f} km'.format(min(drift_distances)))\n",
    "print('Max drift distance during bloom cycle: {0:.02f} km'.format(max(drift_distances)))"
   ]
  },
  {
   "cell_type": "code",
   "execution_count": null,
   "metadata": {},
   "outputs": [],
   "source": []
  }
 ],
 "metadata": {
  "kernelspec": {
   "display_name": "Python 3",
   "language": "python",
   "name": "python3"
  },
  "language_info": {
   "codemirror_mode": {
    "name": "ipython",
    "version": 3
   },
   "file_extension": ".py",
   "mimetype": "text/x-python",
   "name": "python",
   "nbconvert_exporter": "python",
   "pygments_lexer": "ipython3",
   "version": "3.6.7"
  },
  "pycharm": {
   "stem_cell": {
    "cell_type": "raw",
    "metadata": {
     "collapsed": false
    },
    "source": []
   }
  }
 },
 "nbformat": 4,
 "nbformat_minor": 1
}
