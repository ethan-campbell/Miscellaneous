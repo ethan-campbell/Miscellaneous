{
 "cells": [
  {
   "cell_type": "code",
   "execution_count": 336,
   "metadata": {},
   "outputs": [],
   "source": [
    "from numpy import *\n",
    "import pandas as pd\n",
    "import matplotlib.pyplot as plt\n",
    "import matplotlib.gridspec as gridspec\n",
    "import matplotlib.ticker as mtick\n",
    "from matplotlib.backends.backend_pdf import PdfPages\n",
    "from textwrap import wrap"
   ]
  },
  {
   "cell_type": "code",
   "execution_count": 323,
   "metadata": {},
   "outputs": [],
   "source": [
    "root_dir = '/Users/Ethan/Documents/UW/By date (one-time)/'\n",
    "survey = pd.read_excel(root_dir + '2020-09-13 - SoO culture survey - raw data.xlsx')"
   ]
  },
  {
   "cell_type": "code",
   "execution_count": 324,
   "metadata": {},
   "outputs": [],
   "source": [
    "# clean data; extract labels\n",
    "q_labels = survey.keys().values.astype(str)                             # question labels\n",
    "survey.iloc[where(survey.iloc[:,0] == 'Retiree')[0],0] = 'Retirees'     # consolidate this particular label\n",
    "groups_unordered = array(sorted(survey.iloc[:,0].unique().astype(str)))\n",
    "groups = groups_unordered[[9,3,5,6,2,8,0,1,7]]                          # ordered and with 'I prefer not to answer' removed\n",
    "identities_all = survey.iloc[:,1].unique().astype(str)\n",
    "identities_single_unordered = array([entry for entry in identities_all if (',' not in entry and 'nan' not in entry)])\n",
    "identities = identities_single_unordered[[1,2,0,3]]"
   ]
  },
  {
   "cell_type": "code",
   "execution_count": 325,
   "metadata": {},
   "outputs": [],
   "source": [
    "# simple function to export histograms of scores in order from 1-5 and zero out scores that nobody chose\n",
    "scores = [1,2,3,4,5]\n",
    "def order_and_fill_scores(frequencies):\n",
    "    freqs_full = []\n",
    "    for score in scores:\n",
    "        if score in frequencies: val = frequencies[score]\n",
    "        else:                    val = 0.0\n",
    "        freqs_full.append(val)\n",
    "    return array(freqs_full)"
   ]
  },
  {
   "cell_type": "code",
   "execution_count": 343,
   "metadata": {},
   "outputs": [
    {
     "name": "stdout",
     "output_type": "stream",
     "text": [
      "Working on 1 of 66...\n",
      "Working on 2 of 66...\n",
      "Working on 3 of 66...\n",
      "Working on 4 of 66...\n",
      "Working on 5 of 66...\n",
      "Working on 6 of 66...\n",
      "Working on 7 of 66...\n",
      "Working on 8 of 66...\n",
      "Working on 9 of 66...\n",
      "Working on 10 of 66...\n",
      "Working on 11 of 66...\n",
      "Working on 12 of 66...\n",
      "Working on 13 of 66...\n",
      "Working on 14 of 66...\n",
      "Working on 15 of 66...\n",
      "Working on 16 of 66...\n",
      "Working on 17 of 66...\n",
      "Working on 18 of 66...\n",
      "Working on 19 of 66...\n",
      "Working on 20 of 66...\n",
      "Working on 21 of 66...\n",
      "Working on 22 of 66...\n",
      "Working on 23 of 66...\n",
      "Working on 24 of 66...\n",
      "Working on 25 of 66...\n",
      "Working on 26 of 66...\n",
      "Working on 27 of 66...\n",
      "Working on 28 of 66...\n",
      "Working on 29 of 66...\n",
      "Working on 30 of 66...\n",
      "Working on 31 of 66...\n",
      "Working on 32 of 66...\n",
      "Working on 33 of 66...\n",
      "Working on 34 of 66...\n",
      "Working on 35 of 66...\n",
      "Working on 36 of 66...\n",
      "Working on 37 of 66...\n",
      "Working on 38 of 66...\n",
      "Working on 39 of 66...\n",
      "Working on 40 of 66...\n",
      "Working on 41 of 66...\n",
      "Working on 42 of 66...\n",
      "Working on 43 of 66...\n",
      "Working on 44 of 66...\n",
      "Working on 45 of 66...\n",
      "Working on 46 of 66...\n",
      "Working on 47 of 66...\n",
      "Working on 48 of 66...\n",
      "Working on 49 of 66...\n",
      "Working on 50 of 66...\n",
      "Working on 51 of 66...\n",
      "Working on 52 of 66...\n",
      "Working on 53 of 66...\n",
      "Working on 54 of 66...\n",
      "Working on 55 of 66...\n",
      "Working on 56 of 66...\n",
      "Working on 57 of 66...\n",
      "Working on 58 of 66...\n",
      "Working on 59 of 66...\n",
      "Working on 60 of 66...\n",
      "Working on 61 of 66...\n",
      "Working on 62 of 66...\n",
      "Working on 63 of 66...\n",
      "Working on 64 of 66...\n",
      "Working on 65 of 66...\n",
      "Working on 66 of 66...\n"
     ]
    }
   ],
   "source": [
    "with PdfPages(root_dir + '2020-09-14 - SoO culture survey - analysis/UW SoO culture survey histograms.pdf') as pdf:\n",
    "    for q_idx, q_label in enumerate(q_labels[2:]):\n",
    "        print('Working on {0} of {1}...'.format(q_idx+1,len(q_labels[2:])))\n",
    "        fig = plt.figure(figsize=(12,15))\n",
    "        gs = gridspec.GridSpec(ncols=2,nrows=len(groups),figure=fig)\n",
    "        \n",
    "        # first column: professional groups\n",
    "        for g_idx, group in enumerate(groups):\n",
    "            fig.add_subplot(gs[g_idx,0])\n",
    "            n = sum(survey[q_label][survey.iloc[:,0] == group].value_counts(normalize=False,dropna=True))\n",
    "            freqs_raw = survey[q_label][survey.iloc[:,0] == group].value_counts(normalize=True,dropna=True)\n",
    "            freqs = order_and_fill_scores(freqs_raw)\n",
    "            plt.bar(scores,100*freqs,width=0.95,color=[str(0.05**c) for c in freqs],zorder=2)\n",
    "            plt.gca().yaxis.set_major_locator(mtick.MultipleLocator(base=20.0))\n",
    "            plt.gca().yaxis.set_major_formatter(mtick.PercentFormatter(decimals=0))\n",
    "            plt.grid(axis='y',alpha=0.6,zorder=1)\n",
    "            if q_idx >= 49: plt.gca().invert_xaxis()\n",
    "            plt.title('{0} ($n$ = {1})'.format(group,n))\n",
    "            \n",
    "        # second column: identity groups\n",
    "        for i_idx, identity in enumerate(identities):\n",
    "            fig.add_subplot(gs[i_idx+2,1])\n",
    "            inclusive_mask = array([(identity in entry) for entry in survey.iloc[:,1].astype(str)])\n",
    "                # the above is a boolean mask including people who chose more than one identity category \n",
    "            n = sum(survey[q_label][inclusive_mask].value_counts(normalize=False,dropna=True))\n",
    "            freqs_raw = survey[q_label][inclusive_mask].value_counts(normalize=True,dropna=True)\n",
    "            freqs = order_and_fill_scores(freqs_raw)\n",
    "            plt.bar(scores,100*freqs,width=0.95,color=[str(0.025**c) for c in freqs],zorder=2)\n",
    "            plt.gca().yaxis.set_major_locator(mtick.MultipleLocator(base=20.0))\n",
    "            plt.gca().yaxis.set_major_formatter(mtick.PercentFormatter(decimals=0))\n",
    "            plt.grid(axis='y',alpha=0.6,zorder=1)\n",
    "            if q_idx >= 49: plt.gca().invert_xaxis()\n",
    "            plt.title('{0} ($n$ = {1})'.format(identity[:-1],n))\n",
    "            \n",
    "        # 'overall' plot\n",
    "        fig.add_subplot(gs[0:2,1])\n",
    "        n = sum(survey[q_label].value_counts(normalize=False,dropna=True))\n",
    "        freqs_raw = survey[q_label].value_counts(normalize=True,dropna=True)\n",
    "        freqs = order_and_fill_scores(freqs_raw)\n",
    "        plt.bar(scores,100*freqs,width=0.95,color=[str(0.05**c) for c in freqs],zorder=2,hatch='///')\n",
    "        plt.gca().yaxis.set_major_locator(mtick.MultipleLocator(base=10.0))\n",
    "        plt.gca().yaxis.set_major_formatter(mtick.PercentFormatter(decimals=0))\n",
    "        plt.grid(axis='y',alpha=0.6,zorder=1)\n",
    "        if q_idx >= 49: plt.gca().invert_xaxis()\n",
    "        plt.title(r'$\\bf{OVERALL}$' + ' ($n$ = {0})'.format(n))\n",
    "        \n",
    "        # finish plotting\n",
    "        plt.suptitle('Q{0}. '.format(q_idx+1) + '\\n'.join(wrap(str(q_label),100)) + '\\n',weight='bold')\n",
    "        plt.tight_layout(w_pad=5,rect=(0,0,0.97,1))\n",
    "        pdf.savefig()\n",
    "        plt.close()"
   ]
  },
  {
   "cell_type": "code",
   "execution_count": 386,
   "metadata": {},
   "outputs": [
    {
     "data": {
      "image/png": "[encoded data removed]",
      "text/plain": [
       "<Figure size 864x1080 with 1 Axes>"
      ]
     },
     "metadata": {
      "needs_background": "light"
     },
     "output_type": "display_data"
    }
   ],
   "source": [
    "# create histogram of % non-response by question\n",
    "q_idxs = arange(len(q_labels[2:]))\n",
    "percent_no_response = []\n",
    "for q_idx in q_idxs:    \n",
    "    if NaN in survey[q_labels[2:][q_idx]].value_counts(normalize=True,dropna=False):\n",
    "        percent_no_response.append(survey[q_labels[2:][q_idx]].value_counts(normalize=True,dropna=False)[NaN])\n",
    "    else:\n",
    "        percent_no_response.append(0.0)\n",
    "percent_no_response = array(percent_no_response)\n",
    "\n",
    "# plot\n",
    "fig = plt.figure(figsize=(12,15))\n",
    "plt.barh(q_idxs+1,100*percent_no_response,height=0.8,color='k',zorder=2)\n",
    "plt.ylim([0.5,max(q_idxs+1.5)])\n",
    "plt.gca().invert_yaxis()\n",
    "plt.gca().yaxis.set_major_locator(mtick.MultipleLocator(base=1.0))\n",
    "plt.gca().xaxis.set_ticks_position(position='both')\n",
    "plt.gca().tick_params(axis='x',bottom=True,top=True,labelbottom=True,labeltop=True)\n",
    "plt.title('Percent non-response by question number\\n',weight='bold',fontsize=14)\n",
    "# plt.gca().xaxis.set_label_position('top') \n",
    "plt.gca().xaxis.set_major_formatter(mtick.PercentFormatter(decimals=0))\n",
    "plt.grid(axis='x',alpha=0.6,zorder=1)\n",
    "plt.tight_layout()\n",
    "plt.savefig(root_dir + '2020-09-14 - SoO culture survey - analysis/UW SoO culture survey non-responses.pdf')"
   ]
  },
  {
   "cell_type": "code",
   "execution_count": null,
   "metadata": {},
   "outputs": [],
   "source": []
  }
 ],
 "metadata": {
  "kernelspec": {
   "display_name": "PyCharm (Miscellaneous)",
   "language": "python",
   "name": "pycharm-bf1ba4a2"
  },
  "language_info": {
   "codemirror_mode": {
    "name": "ipython",
    "version": 3
   },
   "file_extension": ".py",
   "mimetype": "text/x-python",
   "name": "python",
   "nbconvert_exporter": "python",
   "pygments_lexer": "ipython3",
   "version": "3.6.11"
  }
 },
 "nbformat": 4,
 "nbformat_minor": 4
}
